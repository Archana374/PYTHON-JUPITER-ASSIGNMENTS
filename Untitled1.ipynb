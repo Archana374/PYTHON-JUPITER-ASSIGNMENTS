{
 "cells": [
  {
   "cell_type": "code",
   "execution_count": 1,
   "id": "74a6c313-10fe-4165-b00f-305a949138de",
   "metadata": {},
   "outputs": [
    {
     "name": "stdout",
     "output_type": "stream",
     "text": [
      "[[ 1  2  3  4  5]\n",
      " [ 6  7  8  9 10]]\n",
      "[ 5  6  7  8  9 10 11 12 13 14 15]\n"
     ]
    }
   ],
   "source": [
    "import numpy as np\n",
    "\n",
    "# Create the array and reshape it\n",
    "arr1 = np.arange(1, 11).reshape(2, 5)\n",
    "print(arr1)\n",
    "arr2 = np.arange(1, 21)\n",
    "subset = arr2[4:15]  # Indices from 5th to 15th (zero-indexed)\n",
    "print(subset)\n"
   ]
  },
  {
   "cell_type": "code",
   "execution_count": 2,
   "id": "353a830a-f200-4f71-afb3-c25eb812366f",
   "metadata": {},
   "outputs": [
    {
     "name": "stdout",
     "output_type": "stream",
     "text": [
      "grapes        3\n",
      "bananas       2\n",
      "jack fruit    1\n",
      "berries       4\n",
      "dtype: int64\n"
     ]
    }
   ],
   "source": [
    "import pandas as pd\n",
    "\n",
    "# Create the initial series\n",
    "fruits = pd.Series({'grapes': 3, 'bananas': 2, 'jack fruit': 1})\n",
    "\n",
    "# Add a new item to the series\n",
    "fruits['berries'] = 4\n",
    "print(fruits)\n"
   ]
  },
  {
   "cell_type": "code",
   "execution_count": 5,
   "id": "7d7031fc-e9b8-44a6-95c7-4dd73a7ad21f",
   "metadata": {},
   "outputs": [
    {
     "name": "stdout",
     "output_type": "stream",
     "text": [
      "       name  age  gender\n",
      "0   Archana   29  Female\n",
      "1     Bincy   31  Female\n",
      "2    Chinnu   32  Female\n",
      "3    sooraj   33    Male\n",
      "4    Suhana   34  Female\n",
      "5     Rithu   35  Female\n",
      "6      Deva   36  Female\n",
      "7    Harish   37    Male\n",
      "8  Iyswarya   38  Female\n",
      "9    Jishnu   39    Male\n"
     ]
    }
   ],
   "source": [
    "# Create a DataFrame with 10 rows of data\n",
    "data = {\n",
    "    'name': ['Archana', 'Bincy', 'Chinnu', 'sooraj', 'Suhana', 'Rithu', 'Deva', 'Harish', 'Iyswarya', 'Jishnu'],\n",
    "    'age': [29, 31, 32, 33, 34, 35, 36, 37, 38, 39],\n",
    "    'gender': ['Female', 'Female', 'Female', 'Male', 'Female', 'Female', 'Female', 'Male', 'Female', 'Male']\n",
    "}\n",
    "\n",
    "df = pd.DataFrame(data)\n",
    "print(df)\n"
   ]
  },
  {
   "cell_type": "code",
   "execution_count": 7,
   "id": "4fb47d1e-5c38-49a5-9af6-927be832116e",
   "metadata": {},
   "outputs": [
    {
     "name": "stdout",
     "output_type": "stream",
     "text": [
      "       name  age  gender  occupation\n",
      "0   Archana   29  Female   Developer\n",
      "1     Bincy   31  Female     Manager\n",
      "2    Chinnu   32  Female     Analyst\n",
      "3    sooraj   33    Male  Programmer\n",
      "4    Suhana   34  Female          HR\n",
      "5     Rithu   35  Female       Nurse\n",
      "6      Deva   36  Female       Admin\n",
      "7    Harish   37    Male     Finance\n",
      "8  Iyswarya   38  Female     Teacher\n",
      "9    Jishnu   39    Male     Teacher\n"
     ]
    }
   ],
   "source": [
    "# Add occupation column\n",
    "df['occupation'] = ['Developer', 'Manager', 'Analyst', 'Programmer', 'HR', \n",
    "                     'Nurse', 'Admin', 'Finance', 'Teacher', 'Teacher']\n",
    "print(df)\n"
   ]
  },
  {
   "cell_type": "code",
   "execution_count": 9,
   "id": "010f0c5a-7437-4fa0-8bc0-604a16abf421",
   "metadata": {},
   "outputs": [
    {
     "name": "stdout",
     "output_type": "stream",
     "text": [
      "       name  age  gender  occupation\n",
      "1     Bincy   31  Female     Manager\n",
      "2    Chinnu   32  Female     Analyst\n",
      "3    sooraj   33    Male  Programmer\n",
      "4    Suhana   34  Female          HR\n",
      "5     Rithu   35  Female       Nurse\n",
      "6      Deva   36  Female       Admin\n",
      "7    Harish   37    Male     Finance\n",
      "8  Iyswarya   38  Female     Teacher\n",
      "9    Jishnu   39    Male     Teacher\n"
     ]
    }
   ],
   "source": [
    "# Filter rows where age is greater than or equal to 30\n",
    "filtered_df = df[df['age'] >= 30]\n",
    "print(filtered_df)\n"
   ]
  },
  {
   "cell_type": "code",
   "execution_count": 11,
   "id": "97520028-1e4a-4a2f-9c39-3142c5a8409c",
   "metadata": {},
   "outputs": [
    {
     "name": "stdout",
     "output_type": "stream",
     "text": [
      "       name  age  gender  occupation\n",
      "0   Archana   29  Female   Developer\n",
      "1     Bincy   31  Female     Manager\n",
      "2    Chinnu   32  Female     Analyst\n",
      "3    sooraj   33    Male  Programmer\n",
      "4    Suhana   34  Female          HR\n",
      "5     Rithu   35  Female       Nurse\n",
      "6      Deva   36  Female       Admin\n",
      "7    Harish   37    Male     Finance\n",
      "8  Iyswarya   38  Female     Teacher\n",
      "9    Jishnu   39    Male     Teacher\n"
     ]
    }
   ],
   "source": [
    "# Save the DataFrame to a CSV file\n",
    "df.to_csv('data.csv', index=False)\n",
    "\n",
    "# Read the CSV file\n",
    "df_from_csv = pd.read_csv('data.csv')\n",
    "print(df_from_csv)\n"
   ]
  },
  {
   "cell_type": "code",
   "execution_count": null,
   "id": "6b3f04cb-a9f1-41cb-9f7f-e8accb7bb8da",
   "metadata": {},
   "outputs": [],
   "source": []
  }
 ],
 "metadata": {
  "kernelspec": {
   "display_name": "Python [conda env:base] *",
   "language": "python",
   "name": "conda-base-py"
  },
  "language_info": {
   "codemirror_mode": {
    "name": "ipython",
    "version": 3
   },
   "file_extension": ".py",
   "mimetype": "text/x-python",
   "name": "python",
   "nbconvert_exporter": "python",
   "pygments_lexer": "ipython3",
   "version": "3.12.7"
  }
 },
 "nbformat": 4,
 "nbformat_minor": 5
}
